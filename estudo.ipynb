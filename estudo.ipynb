{
 "cells": [
  {
   "cell_type": "code",
   "execution_count": 1,
   "id": "82e683ab",
   "metadata": {},
   "outputs": [],
   "source": [
    "import service"
   ]
  },
  {
   "cell_type": "code",
   "execution_count": 2,
   "id": "e5d13685",
   "metadata": {},
   "outputs": [],
   "source": [
    "slots = service.composicao_deck(2, 'torcato')"
   ]
  },
  {
   "cell_type": "code",
   "execution_count": 3,
   "id": "298a3204",
   "metadata": {},
   "outputs": [
    {
     "data": {
      "text/plain": [
       "29"
      ]
     },
     "execution_count": 3,
     "metadata": {},
     "output_type": "execute_result"
    }
   ],
   "source": [
    "len(slots)"
   ]
  },
  {
   "cell_type": "code",
   "execution_count": 4,
   "id": "7307df5f",
   "metadata": {},
   "outputs": [],
   "source": [
    "cartas_id = [c.id for c in slots]"
   ]
  },
  {
   "cell_type": "code",
   "execution_count": 5,
   "id": "aa23a90b",
   "metadata": {},
   "outputs": [],
   "source": [
    "torcato = service.procurar_usuario('torcato')"
   ]
  },
  {
   "cell_type": "code",
   "execution_count": 6,
   "id": "a5f0aefe",
   "metadata": {},
   "outputs": [],
   "source": [
    "from model import Usuario, Carta, Estoque, Deck, Composicao, db\n",
    "from model import Entrada, Saida, ItemEntrada, ItemSaida"
   ]
  },
  {
   "cell_type": "code",
   "execution_count": 7,
   "id": "a7ec1de0",
   "metadata": {},
   "outputs": [],
   "source": [
    "d = {}"
   ]
  },
  {
   "cell_type": "code",
   "execution_count": 8,
   "id": "72fad8a6",
   "metadata": {},
   "outputs": [],
   "source": [
    "for slot in slots:\n",
    "    carta = service.procurar_carta(slot.id)\n",
    "    estoque = service.estoque_da_carta(torcato, carta)\n",
    "    d[slot.id] = {'quantidade': slot.quantidade, 'estoque': estoque, 'nome': carta.nome}"
   ]
  },
  {
   "cell_type": "code",
   "execution_count": 9,
   "id": "b8e2bcdd",
   "metadata": {},
   "outputs": [],
   "source": [
    "em_falta = {}\n",
    "for id_carta in d.keys():\n",
    "    diferenca = d[id_carta]['quantidade'] - d[id_carta]['estoque']\n",
    "    if diferenca > 0:\n",
    "        em_falta[d[id_carta]['nome']] = diferenca"
   ]
  },
  {
   "cell_type": "code",
   "execution_count": 10,
   "id": "cdc757e0",
   "metadata": {},
   "outputs": [
    {
     "data": {
      "text/plain": [
       "{'Antediluvian Awakening': 1,\n",
       " 'Secure Haven': 1,\n",
       " 'Villein': 2,\n",
       " 'Contagion': 1,\n",
       " \"Unleash Hell's Fury\": 1,\n",
       " 'Awe': 1,\n",
       " 'Elder Impersonation': 2,\n",
       " 'I am Legion': 1,\n",
       " 'Annazir': 2}"
      ]
     },
     "execution_count": 10,
     "metadata": {},
     "output_type": "execute_result"
    }
   ],
   "source": [
    "em_falta"
   ]
  },
  {
   "cell_type": "code",
   "execution_count": 11,
   "id": "f07482b5",
   "metadata": {},
   "outputs": [
    {
     "data": {
      "text/plain": [
       "\"1 x Antediluvian Awakening\\n1 x Secure Haven\\n2 x Villein\\n1 x Contagion\\n1 x Unleash Hell's Fury\\n1 x Awe\\n2 x Elder Impersonation\\n1 x I am Legion\\n2 x Annazir\""
      ]
     },
     "execution_count": 11,
     "metadata": {},
     "output_type": "execute_result"
    }
   ],
   "source": [
    "'\\n'.join([ str(em_falta[carta]) + ' x ' + carta for carta in em_falta.keys() ])"
   ]
  },
  {
   "cell_type": "markdown",
   "id": "d2d53d79",
   "metadata": {},
   "source": [
    "## Descobrir em quais decks pré-construídos existe uma determinada carta"
   ]
  },
  {
   "cell_type": "code",
   "execution_count": null,
   "id": "df25f05c",
   "metadata": {},
   "outputs": [],
   "source": []
  }
 ],
 "metadata": {
  "kernelspec": {
   "display_name": "Python 3 (ipykernel)",
   "language": "python",
   "name": "python3"
  },
  "language_info": {
   "codemirror_mode": {
    "name": "ipython",
    "version": 3
   },
   "file_extension": ".py",
   "mimetype": "text/x-python",
   "name": "python",
   "nbconvert_exporter": "python",
   "pygments_lexer": "ipython3",
   "version": "3.10.10"
  }
 },
 "nbformat": 4,
 "nbformat_minor": 5
}
