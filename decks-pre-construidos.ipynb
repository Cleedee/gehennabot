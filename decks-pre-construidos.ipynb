{
 "cells": [
  {
   "cell_type": "markdown",
   "id": "25dabeb6",
   "metadata": {},
   "source": [
    "# Descobrir em quais decks pré-construídos existe uma determinada carta"
   ]
  },
  {
   "cell_type": "code",
   "execution_count": 1,
   "id": "63145657",
   "metadata": {},
   "outputs": [],
   "source": [
    "from model import Usuario, Carta, Estoque, Deck, Composicao, db\n",
    "from model import Entrada, Saida, ItemEntrada, ItemSaida"
   ]
  },
  {
   "cell_type": "code",
   "execution_count": 19,
   "id": "7dc7a594",
   "metadata": {},
   "outputs": [],
   "source": [
    "import service"
   ]
  },
  {
   "cell_type": "code",
   "execution_count": 2,
   "id": "3d1419ae",
   "metadata": {},
   "outputs": [],
   "source": [
    "# decks = Deck.where_not_null('preconstruido').get()\n",
    "decks = Deck.where('preconstruido','=','T').get()"
   ]
  },
  {
   "cell_type": "code",
   "execution_count": 3,
   "id": "bdf1a95b",
   "metadata": {},
   "outputs": [
    {
     "name": "stdout",
     "output_type": "stream",
     "text": [
      "Fifth Edition - Ministery T <class 'str'>\n",
      "Fifth Edition - Banu Haqim T <class 'str'>\n",
      "Fifth Edition - Brujah T <class 'str'>\n",
      "Fifth Edition - Malkavian T <class 'str'>\n",
      "Anthology I T <class 'str'>\n",
      "Den of Fiends T <class 'str'>\n",
      "Libertine Ball T <class 'str'>\n",
      "Pact with Nephandi T <class 'str'>\n",
      "Parliament of Shadows T <class 'str'>\n",
      "25th Anniversary T <class 'str'>\n",
      "First Blood: Malkavian T <class 'str'>\n",
      "First Blood: Nosferatu T <class 'str'>\n",
      "First Blood: Toreador T <class 'str'>\n",
      "First Blood: Tremere T <class 'str'>\n",
      "First Blood: Ventrue T <class 'str'>\n",
      "Fifth Edition: Gangrel T <class 'str'>\n",
      "Heirs to the Blood reprint bundle 1 T <class 'str'>\n",
      "Heirs to the Blood reprint bundle 2 T <class 'str'>\n",
      "Lost Kindred T <class 'str'>\n"
     ]
    }
   ],
   "source": [
    "for deck in decks:\n",
    "    print(deck.nome, deck.preconstruido, type(deck.preconstruido))"
   ]
  },
  {
   "cell_type": "code",
   "execution_count": 4,
   "id": "470272eb",
   "metadata": {},
   "outputs": [],
   "source": [
    "decks_ids = [deck.id for deck in decks]"
   ]
  },
  {
   "cell_type": "markdown",
   "id": "9f532408",
   "metadata": {},
   "source": [
    "Listas as cartas de todos os decks pré-construídos "
   ]
  },
  {
   "cell_type": "code",
   "execution_count": 5,
   "id": "426e6af0",
   "metadata": {},
   "outputs": [],
   "source": [
    "cartas_pre_construidos = []"
   ]
  },
  {
   "cell_type": "code",
   "execution_count": 6,
   "id": "4dac6112",
   "metadata": {},
   "outputs": [
    {
     "data": {
      "text/plain": [
       "'Desangradores Baalitas'"
      ]
     },
     "execution_count": 6,
     "metadata": {},
     "output_type": "execute_result"
    }
   ],
   "source": [
    "# deck para verificar\n",
    "deck = Deck.find(114)\n",
    "deck.nome"
   ]
  },
  {
   "cell_type": "code",
   "execution_count": 12,
   "id": "7dc9bf60",
   "metadata": {},
   "outputs": [],
   "source": [
    "slots = deck.composicao().get()\n",
    "cartas_deck = [slot.carta for slot in slots]"
   ]
  },
  {
   "cell_type": "code",
   "execution_count": 21,
   "id": "95ccc451",
   "metadata": {},
   "outputs": [
    {
     "data": {
      "text/plain": [
       "['Arishat',\n",
       " 'Horde, The',\n",
       " 'Nergal',\n",
       " 'Xeper, Sultan of Lepers',\n",
       " 'Call the Great Beast',\n",
       " 'Cloak the Gathering',\n",
       " 'Coven, The',\n",
       " 'Dark Mirror of the Mind',\n",
       " 'Enchant Kindred',\n",
       " 'Enkil Cog',\n",
       " 'Entrancement',\n",
       " 'Faceless Night',\n",
       " 'Freak Drive',\n",
       " \"Giant's Blood\",\n",
       " 'Infernal Servitor',\n",
       " 'Legal Manipulations',\n",
       " 'Lost in Crowds',\n",
       " 'Majesty',\n",
       " 'Mask of a Thousand Faces',\n",
       " 'Mylan Horseed',\n",
       " 'Narrow Minds',\n",
       " 'On the Qui Vive',\n",
       " 'Perfectionist',\n",
       " 'Public Trust',\n",
       " 'Ruins of Charizel',\n",
       " 'Sense the Sin',\n",
       " 'Spying Mission',\n",
       " 'Swallowed by the Night',\n",
       " 'Tend the Flock',\n",
       " \"True Love's Face\",\n",
       " 'Unholy Penance',\n",
       " \"Unleash Hell's Fury\",\n",
       " 'Veil the Legions',\n",
       " 'Veneficti',\n",
       " 'Villein',\n",
       " \"Wake with Evening's Freshness\",\n",
       " 'Wider View']"
      ]
     },
     "execution_count": 21,
     "metadata": {},
     "output_type": "execute_result"
    }
   ],
   "source": [
    "nomes_presentes = list(db.table('cartas').where_in('id', cartas_deck).lists('nome'))\n",
    "nomes_presentes"
   ]
  },
  {
   "cell_type": "code",
   "execution_count": 24,
   "id": "5a78f7b5",
   "metadata": {},
   "outputs": [],
   "source": [
    "decks_contem = []\n",
    "for deck in decks:\n",
    "    slot_deck = [slot.carta for slot in deck.composicao().get() ]\n",
    "    presentes = set(slot_deck) & set(cartas_deck)\n",
    "    if presentes:\n",
    "        nomes_presentes = list(db.table('cartas').where_in('id', list(presentes)).lists('nome'))\n",
    "        decks_contem.append((deck.nome, nomes_presentes))\n",
    "    "
   ]
  },
  {
   "cell_type": "code",
   "execution_count": 25,
   "id": "4b31a5be",
   "metadata": {},
   "outputs": [
    {
     "data": {
      "text/plain": [
       "[('Fifth Edition - Ministery',\n",
       "  ['Enchant Kindred',\n",
       "   'Entrancement',\n",
       "   'Faceless Night',\n",
       "   'Lost in Crowds',\n",
       "   'On the Qui Vive',\n",
       "   'Spying Mission',\n",
       "   'Wider View']),\n",
       " ('Fifth Edition - Banu Haqim',\n",
       "  ['On the Qui Vive', 'Swallowed by the Night', 'Villein']),\n",
       " ('Fifth Edition - Brujah', ['Enchant Kindred', 'On the Qui Vive']),\n",
       " ('Fifth Edition - Malkavian',\n",
       "  ['Cloak the Gathering',\n",
       "   'Faceless Night',\n",
       "   'Lost in Crowds',\n",
       "   'On the Qui Vive',\n",
       "   'Spying Mission',\n",
       "   'Swallowed by the Night',\n",
       "   'Wider View']),\n",
       " ('Anthology I', ['Enkil Cog']),\n",
       " ('Den of Fiends', ['On the Qui Vive', 'Villein']),\n",
       " ('Libertine Ball',\n",
       "  ['Entrancement', 'Majesty', 'On the Qui Vive', 'Perfectionist']),\n",
       " ('Pact with Nephandi', ['On the Qui Vive', 'Wider View']),\n",
       " ('Parliament of Shadows', ['Mylan Horseed', 'On the Qui Vive', 'Villein']),\n",
       " ('25th Anniversary',\n",
       "  ['Coven, The', 'Enkil Cog', 'On the Qui Vive', 'Villein']),\n",
       " ('First Blood: Malkavian',\n",
       "  ['Cloak the Gathering', 'Lost in Crowds', 'On the Qui Vive']),\n",
       " ('First Blood: Nosferatu',\n",
       "  ['Cloak the Gathering', 'Lost in Crowds', 'On the Qui Vive']),\n",
       " ('First Blood: Toreador',\n",
       "  ['Enchant Kindred', 'Legal Manipulations', 'Majesty', 'On the Qui Vive']),\n",
       " ('First Blood: Tremere', ['On the Qui Vive']),\n",
       " ('First Blood: Ventrue', ['On the Qui Vive']),\n",
       " ('Fifth Edition: Gangrel', ['On the Qui Vive']),\n",
       " ('Heirs to the Blood reprint bundle 1',\n",
       "  ['Arishat',\n",
       "   'Horde, The',\n",
       "   'Xeper, Sultan of Lepers',\n",
       "   'Infernal Servitor',\n",
       "   'Tend the Flock',\n",
       "   'Veneficti',\n",
       "   'Wider View'])]"
      ]
     },
     "execution_count": 25,
     "metadata": {},
     "output_type": "execute_result"
    }
   ],
   "source": [
    "decks_contem"
   ]
  },
  {
   "cell_type": "code",
   "execution_count": 30,
   "id": "a9d19efc",
   "metadata": {},
   "outputs": [
    {
     "name": "stdout",
     "output_type": "stream",
     "text": [
      "Fifth Edition - Ministery\n",
      "--Enchant Kindred\n",
      "--Entrancement\n",
      "--Faceless Night\n",
      "--Lost in Crowds\n",
      "--On the Qui Vive\n",
      "--Spying Mission\n",
      "--Wider View\n",
      "Fifth Edition - Banu Haqim\n",
      "--On the Qui Vive\n",
      "--Swallowed by the Night\n",
      "--Villein\n",
      "Fifth Edition - Brujah\n",
      "--Enchant Kindred\n",
      "--On the Qui Vive\n",
      "Fifth Edition - Malkavian\n",
      "--Cloak the Gathering\n",
      "--Faceless Night\n",
      "--Lost in Crowds\n",
      "--On the Qui Vive\n",
      "--Spying Mission\n",
      "--Swallowed by the Night\n",
      "--Wider View\n",
      "Anthology I\n",
      "--Enkil Cog\n",
      "Den of Fiends\n",
      "--On the Qui Vive\n",
      "--Villein\n",
      "Libertine Ball\n",
      "--Entrancement\n",
      "--Majesty\n",
      "--On the Qui Vive\n",
      "--Perfectionist\n",
      "Pact with Nephandi\n",
      "--On the Qui Vive\n",
      "--Wider View\n",
      "Parliament of Shadows\n",
      "--Mylan Horseed\n",
      "--On the Qui Vive\n",
      "--Villein\n",
      "25th Anniversary\n",
      "--Coven, The\n",
      "--Enkil Cog\n",
      "--On the Qui Vive\n",
      "--Villein\n",
      "First Blood: Malkavian\n",
      "--Cloak the Gathering\n",
      "--Lost in Crowds\n",
      "--On the Qui Vive\n",
      "First Blood: Nosferatu\n",
      "--Cloak the Gathering\n",
      "--Lost in Crowds\n",
      "--On the Qui Vive\n",
      "First Blood: Toreador\n",
      "--Enchant Kindred\n",
      "--Legal Manipulations\n",
      "--Majesty\n",
      "--On the Qui Vive\n",
      "First Blood: Tremere\n",
      "--On the Qui Vive\n",
      "First Blood: Ventrue\n",
      "--On the Qui Vive\n",
      "Fifth Edition: Gangrel\n",
      "--On the Qui Vive\n",
      "Heirs to the Blood reprint bundle 1\n",
      "--Arishat\n",
      "--Horde, The\n",
      "--Xeper, Sultan of Lepers\n",
      "--Infernal Servitor\n",
      "--Tend the Flock\n",
      "--Veneficti\n",
      "--Wider View\n"
     ]
    }
   ],
   "source": [
    "print('\\n'.join([item[0] + '\\n--' + '\\n--'.join(item[1]) for item in decks_contem]))"
   ]
  },
  {
   "cell_type": "code",
   "execution_count": null,
   "id": "20da3438",
   "metadata": {},
   "outputs": [],
   "source": []
  }
 ],
 "metadata": {
  "kernelspec": {
   "display_name": "Python 3 (ipykernel)",
   "language": "python",
   "name": "python3"
  },
  "language_info": {
   "codemirror_mode": {
    "name": "ipython",
    "version": 3
   },
   "file_extension": ".py",
   "mimetype": "text/x-python",
   "name": "python",
   "nbconvert_exporter": "python",
   "pygments_lexer": "ipython3",
   "version": "3.10.10"
  }
 },
 "nbformat": 4,
 "nbformat_minor": 5
}
