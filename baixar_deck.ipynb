{
 "cells": [
  {
   "cell_type": "markdown",
   "id": "96a18e07",
   "metadata": {},
   "source": [
    "## Baixar deck no formato Lackey\n",
    "\n",
    "A utilidade dessa funcionalidade é permitir aos usuários cadastrarem decks e também novas aquisições para seus acervos de cartas."
   ]
  },
  {
   "cell_type": "code",
   "execution_count": 1,
   "id": "919ac185",
   "metadata": {},
   "outputs": [],
   "source": [
    "import requests\n",
    "from collections import namedtuple"
   ]
  },
  {
   "cell_type": "code",
   "execution_count": 2,
   "id": "24934a8b",
   "metadata": {},
   "outputs": [],
   "source": [
    "r = requests.get('https://api.vtesdecks.com/1.0/decks/user-scarso-2544346a5f5e443f89c62dc88dec0e53/export?type=LACKEY')"
   ]
  },
  {
   "cell_type": "code",
   "execution_count": 3,
   "id": "c3271c22",
   "metadata": {},
   "outputs": [
    {
     "data": {
      "text/plain": [
       "200"
      ]
     },
     "execution_count": 3,
     "metadata": {},
     "output_type": "execute_result"
    }
   ],
   "source": [
    "r.status_code"
   ]
  },
  {
   "cell_type": "code",
   "execution_count": 4,
   "id": "7b31d0b4",
   "metadata": {},
   "outputs": [
    {
     "data": {
      "text/plain": [
       "'text'"
      ]
     },
     "execution_count": 4,
     "metadata": {},
     "output_type": "execute_result"
    }
   ],
   "source": [
    "r.headers['content-type']"
   ]
  },
  {
   "cell_type": "code",
   "execution_count": 5,
   "id": "6658be74",
   "metadata": {},
   "outputs": [],
   "source": [
    "texto = r.text"
   ]
  },
  {
   "cell_type": "code",
   "execution_count": 6,
   "id": "e83ec93e",
   "metadata": {},
   "outputs": [],
   "source": [
    "linhas = [linha for linha in texto.split('\\n') if '\\t' in linha]"
   ]
  },
  {
   "cell_type": "code",
   "execution_count": 7,
   "id": "fb9065a8",
   "metadata": {},
   "outputs": [],
   "source": [
    "Slot = namedtuple(\"Slot\", \"quantidade nome\")"
   ]
  },
  {
   "cell_type": "code",
   "execution_count": 8,
   "id": "64355fd9",
   "metadata": {},
   "outputs": [],
   "source": [
    "slots = [Slot(*linha.split('\\t')) for linha in linhas]"
   ]
  },
  {
   "cell_type": "code",
   "execution_count": 9,
   "id": "9671e223",
   "metadata": {},
   "outputs": [
    {
     "data": {
      "text/plain": [
       "[Slot(quantidade='6', nome='Villein'),\n",
       " Slot(quantidade='6', nome=\"Zillah's Valley\"),\n",
       " Slot(quantidade='1', nome='Creepshow Casino'),\n",
       " Slot(quantidade='1', nome='Dreams of the Sphinx'),\n",
       " Slot(quantidade='1', nome='Fame'),\n",
       " Slot(quantidade='1', nome='Legendary Vampire'),\n",
       " Slot(quantidade='1', nome='Monastery of Shadows'),\n",
       " Slot(quantidade='1', nome='Protected Resources'),\n",
       " Slot(quantidade='1', nome='Wider View'),\n",
       " Slot(quantidade='6', nome='Shattering Crescendo'),\n",
       " Slot(quantidade='2', nome='Entrancement'),\n",
       " Slot(quantidade='2', nome='Heart of the City'),\n",
       " Slot(quantidade='1', nome='Aranthebes, The Immortal'),\n",
       " Slot(quantidade='1', nome=\"Unleash Hell's Fury\"),\n",
       " Slot(quantidade='1', nome='Heart of Nizchetus'),\n",
       " Slot(quantidade='5', nome='Freak Drive'),\n",
       " Slot(quantidade='5', nome='Voter Captivation'),\n",
       " Slot(quantidade='4', nome='Forgotten Labyrinth'),\n",
       " Slot(quantidade='2', nome='Elder Impersonation'),\n",
       " Slot(quantidade='2', nome='Faceless Night'),\n",
       " Slot(quantidade='2', nome='Lost in Crowds'),\n",
       " Slot(quantidade='2', nome='Perfect Paragon'),\n",
       " Slot(quantidade='1', nome='Forced March'),\n",
       " Slot(quantidade='1', nome='Carlton Van Wyk'),\n",
       " Slot(quantidade='5', nome='Majesty'),\n",
       " Slot(quantidade='5', nome='Kine Resources Contested'),\n",
       " Slot(quantidade='3', nome='Reckless Agitation'),\n",
       " Slot(quantidade='2', nome='Lily Prelude'),\n",
       " Slot(quantidade='2', nome='Parity Shift'),\n",
       " Slot(quantidade='2', nome='Swallowed by the Night'),\n",
       " Slot(quantidade='4', nome='Scout Youngwood'),\n",
       " Slot(quantidade='3', nome='Dmitra Ilyanova'),\n",
       " Slot(quantidade='2', nome='Arishat'),\n",
       " Slot(quantidade='2', nome='Jacques Rouge'),\n",
       " Slot(quantidade='1', nome='Undele')]"
      ]
     },
     "execution_count": 9,
     "metadata": {},
     "output_type": "execute_result"
    }
   ],
   "source": [
    "slots"
   ]
  },
  {
   "cell_type": "code",
   "execution_count": 10,
   "id": "305bd2f9",
   "metadata": {},
   "outputs": [],
   "source": [
    "from model import Usuario, Carta, Estoque, Deck, Composicao, db\n",
    "from model import Entrada, Saida, ItemEntrada, ItemSaida\n",
    "\n",
    "import service"
   ]
  },
  {
   "cell_type": "code",
   "execution_count": 11,
   "id": "48c57f2c",
   "metadata": {},
   "outputs": [],
   "source": [
    "# verificando se alguma carta não é encontrada\n",
    "for slot in slots:\n",
    "    carta = service.procurar_carta_por_nome(slot.nome)\n",
    "    if not carta:\n",
    "        print(slot.nome, 'não encontrada.')"
   ]
  },
  {
   "cell_type": "code",
   "execution_count": 12,
   "id": "3935ed0d",
   "metadata": {},
   "outputs": [],
   "source": [
    "# ID deck de teste: 119\n",
    "deck = service.deck_por_id(119, 'torcato')"
   ]
  },
  {
   "cell_type": "code",
   "execution_count": 13,
   "id": "e30b5ffb",
   "metadata": {},
   "outputs": [
    {
     "name": "stdout",
     "output_type": "stream",
     "text": [
      "Deck de Teste\n"
     ]
    }
   ],
   "source": [
    "print(deck.nome)"
   ]
  },
  {
   "cell_type": "code",
   "execution_count": null,
   "id": "d80670bd",
   "metadata": {},
   "outputs": [],
   "source": [
    "#for slot in slots:\n",
    "#    carta = service.procurar_carta_por_nome(slot.nome)\n",
    "#    if carta:\n",
    "#        c = Composicao()\n",
    "#        c.deck = deck.id\n",
    "#         c.quantidade = int(slot.quantidade)\n",
    "#         c.carta = carta.id\n",
    "#         c.save()"
   ]
  },
  {
   "cell_type": "code",
   "execution_count": null,
   "id": "bacf4746",
   "metadata": {},
   "outputs": [],
   "source": [
    "# c.delete()"
   ]
  },
  {
   "cell_type": "code",
   "execution_count": null,
   "id": "fd7f38ec",
   "metadata": {},
   "outputs": [],
   "source": [
    "# Composicao.where('deck', '=', deck.id).delete()"
   ]
  },
  {
   "cell_type": "code",
   "execution_count": 17,
   "id": "2d32c167",
   "metadata": {},
   "outputs": [],
   "source": [
    "usuario = service.procurar_usuario('torcato')"
   ]
  },
  {
   "cell_type": "code",
   "execution_count": 18,
   "id": "3c2e01bb",
   "metadata": {},
   "outputs": [
    {
     "data": {
      "text/plain": [
       "True"
      ]
     },
     "execution_count": 18,
     "metadata": {},
     "output_type": "execute_result"
    }
   ],
   "source": [
    "novo_deck = Deck()\n",
    "novo_deck.nome = 'Novo deck'\n",
    "novo_deck.tipo = 'other'\n",
    "novo_deck.dono = usuario.id\n",
    "novo_deck.save()"
   ]
  },
  {
   "cell_type": "code",
   "execution_count": 19,
   "id": "93a0c0bf",
   "metadata": {},
   "outputs": [
    {
     "data": {
      "text/plain": [
       "123"
      ]
     },
     "execution_count": 19,
     "metadata": {},
     "output_type": "execute_result"
    }
   ],
   "source": [
    "novo_deck.id"
   ]
  },
  {
   "cell_type": "code",
   "execution_count": 16,
   "id": "7bbca07a",
   "metadata": {},
   "outputs": [
    {
     "data": {
      "text/plain": [
       "True"
      ]
     },
     "execution_count": 16,
     "metadata": {},
     "output_type": "execute_result"
    }
   ],
   "source": [
    "# novo_deck.delete()"
   ]
  },
  {
   "cell_type": "code",
   "execution_count": 20,
   "id": "d427948d",
   "metadata": {},
   "outputs": [
    {
     "data": {
      "text/plain": [
       "1"
      ]
     },
     "execution_count": 20,
     "metadata": {},
     "output_type": "execute_result"
    }
   ],
   "source": [
    "novo_deck.dono"
   ]
  },
  {
   "cell_type": "code",
   "execution_count": 21,
   "id": "206e1682",
   "metadata": {},
   "outputs": [],
   "source": [
    "novo_deck.descricao = '' + '\\n\\nCarta 1 não encontrada\\nCarta 2 não encontrada'"
   ]
  },
  {
   "cell_type": "code",
   "execution_count": 22,
   "id": "ded876a8",
   "metadata": {},
   "outputs": [
    {
     "data": {
      "text/plain": [
       "True"
      ]
     },
     "execution_count": 22,
     "metadata": {},
     "output_type": "execute_result"
    }
   ],
   "source": [
    "novo_deck.save()"
   ]
  },
  {
   "cell_type": "code",
   "execution_count": 23,
   "id": "af658852",
   "metadata": {},
   "outputs": [],
   "source": [
    "nao_encontradas = ''\n",
    "nao_encontradas += '\\nteste'"
   ]
  },
  {
   "cell_type": "code",
   "execution_count": 24,
   "id": "40fcd938",
   "metadata": {},
   "outputs": [
    {
     "data": {
      "text/plain": [
       "'\\nteste'"
      ]
     },
     "execution_count": 24,
     "metadata": {},
     "output_type": "execute_result"
    }
   ],
   "source": [
    "nao_encontradas"
   ]
  },
  {
   "cell_type": "code",
   "execution_count": null,
   "id": "3d8e4fb1",
   "metadata": {},
   "outputs": [],
   "source": []
  }
 ],
 "metadata": {
  "kernelspec": {
   "display_name": "Python 3 (ipykernel)",
   "language": "python",
   "name": "python3"
  },
  "language_info": {
   "codemirror_mode": {
    "name": "ipython",
    "version": 3
   },
   "file_extension": ".py",
   "mimetype": "text/x-python",
   "name": "python",
   "nbconvert_exporter": "python",
   "pygments_lexer": "ipython3",
   "version": "3.10.10"
  }
 },
 "nbformat": 4,
 "nbformat_minor": 5
}
