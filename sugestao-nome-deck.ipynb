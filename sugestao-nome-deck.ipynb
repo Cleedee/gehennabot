{
 "cells": [
  {
   "cell_type": "code",
   "execution_count": 1,
   "id": "c544133f",
   "metadata": {},
   "outputs": [],
   "source": [
    "import service, util"
   ]
  },
  {
   "cell_type": "code",
   "execution_count": 2,
   "id": "1bddb5fb",
   "metadata": {},
   "outputs": [],
   "source": [
    "from model import db"
   ]
  },
  {
   "cell_type": "code",
   "execution_count": 3,
   "id": "2775aff3",
   "metadata": {},
   "outputs": [
    {
     "name": "stdout",
     "output_type": "stream",
     "text": [
      "1 Scottish ECQ 2010 (2nd place): Secret Assamite\n",
      "2 SuperHappyFunSlide Day One: Seasons in the Abyss\n",
      "3 !Salubri's Daggers\n",
      "4 Northwest NAC Qualifier 2011 (2nd Place): Daughters\n",
      "6 Nosferatu Old School Vote\n",
      "7 Osebo Intercept Combat\n",
      "8 Assamita Secreto\n",
      "9 Pre/Dom Bruise-Bleed\n",
      "10 Baali Vote G5/6\n",
      "11 Jueves: Salubri Blocker toolbox\n",
      "12 Midsummer-Day Dream: Nosfeartu Anathema\n",
      "16 Philipline ACQ 2011: True Brujah\n",
      "17 South East Regional Qualifier 2011: Abusing the Public Trust is an Abomination\n",
      "18 Ultimate Blocker\n",
      "19 Portsmouth: Intercept-combat tzimisce deck\n",
      "20 Blood Siege: Of Ghastly Dreams (best safety lies in fear) \n",
      "21 Along comes the spider\n",
      "22 Forced March: There's No Nation Like Vaticination\n",
      "24 Trujah Bleed Teresina Embraced 2011\n",
      "25 Sing and dance\n",
      "26 RPG.HU V:tES Tournament: Provisions of Thetmes\n",
      "28 Sword of Caine\n",
      "30 The Howling\n",
      "32 Godverdomme: Glöggansiktet Gerald\n",
      "33 Tzimisce Intecept Combat - Horrid Combat\n",
      "34 ECQ Serbia 2011: Imbued\n",
      "36 Kiasyd Bleeda em Teresina\n",
      "37 Extras do Assamita\n",
      "38 Assamitas do Igor\n",
      "39 Assamitas do Igor 2\n",
      "40 Shalmath Wall\n",
      "41 Eyes of the Dead III: The Shalmath Limb Donor Foundation\n",
      "43 Lotes VTES Cards Leilão\n",
      "48 Pot/Cel Rush\n",
      "49 Chegaram Pelo Rio Parnaíba\n",
      "50 New Kiasyd\n",
      "54 LCQ France Nationals 2012: Wicked Bleed\n",
      "55 Czestochowa the Beginning: Unnamed_maleficia v1.1\n",
      "56 EC 2012 Silence of Death (2nd Place): Osebo 419 Operation Wall\n",
      "57 EC 2008 First Chance Qualifier: Sudario Hordes\n",
      "60 Colorado NAC Qualifier: Anarch Presence/Animalism Bleed\n",
      "61 Creepshow in Cantina: Tzimish\n",
      "62  Paranormal: Spider, the best\n",
      "63 Q Hatvan: Potence princes v2013\n",
      "66 Constructed: Abril; Rafinha Osebo Wall\n",
      "67 Acbishop III Edition: True Nergal\n",
      "68 !Brujah breed wDM\n",
      "69 Cartas do Neto Castro\n",
      "70 Deck Kyasid Emprestado\n",
      "71 Fifth Edition: Nosferatu\n",
      "72 Gangrel Winnie Animalism\n",
      "73 Giovanni Are Rich\n",
      "74 Shalmath [by Heappl]\n",
      "75 Anson Ashurs\n",
      "76 Baalicious Barons\n",
      "77 Fifth Edition - Ministery\n",
      "78 Fifth Edition - Banu Haqim\n",
      "79 Fifth Edition - Brujah\n",
      "80 Fifth Edition - Malkavian\n",
      "81 Anthology I\n",
      "82 Den of Fiends\n",
      "83 Libertine Ball\n",
      "84 Pact with Nephandi\n",
      "85 Parliament of Shadows\n",
      "86 25th Anniversary\n",
      "87 Fall of London\n",
      "89 Rush Simple Pot/Cel\n",
      "90 Reign of Lasombra\n",
      "91 Gangrel Inefável\n",
      "92 Power of Princes 2\n",
      "93 True Brujah Wall\n",
      "94 Shalmath History\n",
      "95 True Power v2\n",
      "96 The One And Only\n",
      "100 First Blood: Malkavian\n",
      "101 First Blood: Nosferatu\n",
      "102 First Blood: Toreador\n",
      "103 First Blood: Tremere\n",
      "104 First Blood: Ventrue\n",
      "105 Fifth Edition: Gangrel\n",
      "107 Hijas De La Cacofonía 3.0\n",
      "108 Heirs to the Blood reprint bundle 1\n",
      "109 Heirs to the Blood reprint bundle 2\n",
      "110 Lost Kindred\n",
      "111 Arishat\n",
      "112 Baali Vote And Bleed\n",
      "113 The Shalmath Limb Donor Foundation\n",
      "114 Desangradores Baalitas\n",
      "115 Osebo - No Secrets\n",
      "116 The unnamed 73 infernal\n",
      "117 Tremere Monstro\n",
      "118 Voter Crescendo\n",
      "119 Deck de Teste\n",
      "129 Bastard Unnamed Deck\n",
      "130 Fix the Problem at the Source\n"
     ]
    }
   ],
   "source": [
    "decks = service.decks_por_usuario('torcato')\n",
    "for deck in decks:\n",
    "    print(deck.id, deck.nome)"
   ]
  },
  {
   "cell_type": "code",
   "execution_count": 4,
   "id": "706a8a62",
   "metadata": {},
   "outputs": [],
   "source": [
    "def composicao_deck(id):\n",
    "    composicao = (\n",
    "        db.table('composicao')\n",
    "        .join('cartas', 'composicao.carta', '=', 'cartas.id')\n",
    "        .select(\n",
    "            'composicao.quantidade', \n",
    "            'cartas.nome', \n",
    "            'cartas.grupo', \n",
    "            'cartas.id',\n",
    "            'cartas.tipo',\n",
    "            'cartas.clan'\n",
    "        )\n",
    "        .where('composicao.deck', '=', id)\n",
    "        .get()\n",
    "    )\n",
    "    return composicao"
   ]
  },
  {
   "cell_type": "code",
   "execution_count": 5,
   "id": "aefc6225",
   "metadata": {},
   "outputs": [],
   "source": [
    "composicao = composicao_deck(11)"
   ]
  },
  {
   "cell_type": "code",
   "execution_count": 6,
   "id": "4467aec9",
   "metadata": {},
   "outputs": [
    {
     "data": {
      "text/plain": [
       "'5/6'"
      ]
     },
     "execution_count": 6,
     "metadata": {},
     "output_type": "execute_result"
    }
   ],
   "source": [
    "util.sugestao_nome_deck(composicao)"
   ]
  },
  {
   "cell_type": "code",
   "execution_count": 7,
   "id": "6feb3f06",
   "metadata": {},
   "outputs": [],
   "source": [
    "cripta = []\n",
    "for slot in composicao:\n",
    "    if slot.tipo == 'Vampire':\n",
    "        cripta += slot.quantidade * [slot.clan]"
   ]
  },
  {
   "cell_type": "code",
   "execution_count": 8,
   "id": "ad603b03",
   "metadata": {},
   "outputs": [
    {
     "data": {
      "text/plain": [
       "['Toreador',\n",
       " 'Salubri',\n",
       " 'Salubri',\n",
       " 'Salubri',\n",
       " 'Salubri',\n",
       " 'Salubri',\n",
       " 'Salubri',\n",
       " 'Salubri',\n",
       " 'Toreador',\n",
       " 'Toreador',\n",
       " 'Nagaraja',\n",
       " 'Nagaraja']"
      ]
     },
     "execution_count": 8,
     "metadata": {},
     "output_type": "execute_result"
    }
   ],
   "source": [
    "cripta"
   ]
  },
  {
   "cell_type": "code",
   "execution_count": 9,
   "id": "61f91e06",
   "metadata": {},
   "outputs": [],
   "source": [
    "slots = {}\n",
    "for vampiro in cripta:\n",
    "    if vampiro in slots:\n",
    "        slots[vampiro] += 1\n",
    "    else:\n",
    "        slots[vampiro] = 1"
   ]
  },
  {
   "cell_type": "code",
   "execution_count": 10,
   "id": "d2aa415b",
   "metadata": {},
   "outputs": [
    {
     "data": {
      "text/plain": [
       "{'Toreador': 3, 'Salubri': 7, 'Nagaraja': 2}"
      ]
     },
     "execution_count": 10,
     "metadata": {},
     "output_type": "execute_result"
    }
   ],
   "source": [
    "slots"
   ]
  },
  {
   "cell_type": "code",
   "execution_count": 11,
   "id": "95825bbd",
   "metadata": {},
   "outputs": [],
   "source": [
    "vampiros_ordenados_por_quantidade = sorted(slots.items(), key=lambda x: x[1], reverse=True)"
   ]
  },
  {
   "cell_type": "code",
   "execution_count": 12,
   "id": "01d2694e",
   "metadata": {},
   "outputs": [],
   "source": [
    "slots_convertidos = dict(vampiros_ordenados_por_quantidade)"
   ]
  },
  {
   "cell_type": "code",
   "execution_count": 13,
   "id": "a0937311",
   "metadata": {},
   "outputs": [
    {
     "data": {
      "text/plain": [
       "{'Salubri': 7, 'Toreador': 3, 'Nagaraja': 2}"
      ]
     },
     "execution_count": 13,
     "metadata": {},
     "output_type": "execute_result"
    }
   ],
   "source": [
    "slots_convertidos"
   ]
  },
  {
   "cell_type": "code",
   "execution_count": 14,
   "id": "ea104cbc",
   "metadata": {},
   "outputs": [
    {
     "data": {
      "text/plain": [
       "[('Salubri', 7), ('Toreador', 3), ('Nagaraja', 2)]"
      ]
     },
     "execution_count": 14,
     "metadata": {},
     "output_type": "execute_result"
    }
   ],
   "source": [
    "vampiros_ordenados_por_quantidade"
   ]
  },
  {
   "cell_type": "code",
   "execution_count": 15,
   "id": "69b72519",
   "metadata": {},
   "outputs": [
    {
     "data": {
      "text/plain": [
       "'Salubri'"
      ]
     },
     "execution_count": 15,
     "metadata": {},
     "output_type": "execute_result"
    }
   ],
   "source": [
    "vampiros_ordenados_por_quantidade[0][0]"
   ]
  },
  {
   "cell_type": "code",
   "execution_count": null,
   "id": "42d069b6",
   "metadata": {},
   "outputs": [],
   "source": []
  }
 ],
 "metadata": {
  "kernelspec": {
   "display_name": "Python 3 (ipykernel)",
   "language": "python",
   "name": "python3"
  },
  "language_info": {
   "codemirror_mode": {
    "name": "ipython",
    "version": 3
   },
   "file_extension": ".py",
   "mimetype": "text/x-python",
   "name": "python",
   "nbconvert_exporter": "python",
   "pygments_lexer": "ipython3",
   "version": "3.10.10"
  }
 },
 "nbformat": 4,
 "nbformat_minor": 5
}
