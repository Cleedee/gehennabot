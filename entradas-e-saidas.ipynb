{
 "cells": [
  {
   "cell_type": "code",
   "execution_count": 1,
   "id": "c7876887",
   "metadata": {},
   "outputs": [],
   "source": [
    "from model import Usuario, Carta, Estoque, Deck, Composicao, db\n",
    "from model import Entrada, Saida, ItemEntrada, ItemSaida"
   ]
  },
  {
   "cell_type": "code",
   "execution_count": 2,
   "id": "69e9278b",
   "metadata": {},
   "outputs": [],
   "source": [
    "import service"
   ]
  },
  {
   "cell_type": "code",
   "execution_count": 3,
   "id": "5c823c41",
   "metadata": {},
   "outputs": [],
   "source": [
    "entradas = Entrada.where('dono','=', 1).get()"
   ]
  },
  {
   "cell_type": "code",
   "execution_count": 4,
   "id": "eb9f5265",
   "metadata": {},
   "outputs": [
    {
     "name": "stdout",
     "output_type": "stream",
     "text": [
      "1 Starter Deck Assamitas LotN\n",
      "2 Compra no eBay\n",
      "3 Starter Deck Malkavian KoT\n",
      "4 Starter Deck Lasombra/Kiasyd HttB\n",
      "5 Starter Deck Giovanni LotN\n",
      "6 Starter Deck Ravnos LotN\n",
      "7 Starter Deck Brujah Antitribu TE\n",
      "8 Starter Deck Tzimisce TE\n",
      "9 Daughters G 2/3 DominioSP\n",
      "10 Osebo Intercept Combat DominioSP\n",
      "11 Baali Dominio SP\n",
      "12 Starter Deck Nosferatu CE\n",
      "13 Box de Heirs to the Blood\n",
      "14 Nosferatu Old School votes\n",
      "15 eBay Rickstock\n",
      "16 VtesCards.com.br\n",
      "17 Starter Deck Osebo LoB 1\n",
      "19 Starter Deck Akunanse LoB 1\n",
      "20 Starter Deck Akunanse LoB 2\n",
      "21 Starter Deck Akunanse LoB 3\n",
      "22 eBay prunesquallor\n",
      "23 eBay tlt1\n",
      "24 Baali G5/6 DominioSP\n",
      "25 True Brujah G5/6 DominioSP\n",
      "26 eBay Rickstock Assamita Secreto\n",
      "29 Starter Deck Guruhi LoB\n",
      "30 eBay rickstock Voter\n",
      "31 eBay prunesquallor Reckless\n",
      "45 eBay rickstock para Tzimisce\n",
      "46 eBay idasoft via Igor\n",
      "60 Compra Online em Floreios e Borrões\n",
      "61 RickStock para o Kiasyd e Akunanse\n",
      "65 Troca de cartas de Magic por VTES com Dimmy\n",
      "72 Compra online em Floreios e Borrões\n",
      "74 Ravnos LoTN do Jean\n",
      "77 eBay idasoft\n",
      "78 eBay rickstock\n",
      "80 VTES Cards via Jean\n",
      "82 Extras via eBay\n",
      "83 Liga 2013 Partida 8\n",
      "85 Homo Ludicus\n"
     ]
    }
   ],
   "source": [
    "for entrada in entradas:\n",
    "    print(entrada.id, entrada.origem)"
   ]
  },
  {
   "cell_type": "code",
   "execution_count": 5,
   "id": "d930da42",
   "metadata": {},
   "outputs": [],
   "source": [
    "saidas = Saida.where('dono','=', 1).get()"
   ]
  },
  {
   "cell_type": "code",
   "execution_count": 6,
   "id": "5a0e2d2a",
   "metadata": {},
   "outputs": [
    {
     "name": "stdout",
     "output_type": "stream",
     "text": [
      "8 Venda Online para dourado\n",
      "11 Venda Online para igorak\n",
      "13 Venda Online para igorak\n",
      "14 Venda Online para igorak\n",
      "15 Venda Online para igorak\n",
      "17 Venda online para igorak\n",
      "19 Venda online to grandemau\n",
      "23 Venda online to grandemau\n",
      "26 Venda online to dourado\n"
     ]
    }
   ],
   "source": [
    "for saida in saidas:\n",
    "    print(saida.id, saida.descricao)"
   ]
  },
  {
   "cell_type": "code",
   "execution_count": 15,
   "id": "a43ab40c",
   "metadata": {},
   "outputs": [],
   "source": [
    "entrada = Entrada.find(26)"
   ]
  },
  {
   "cell_type": "code",
   "execution_count": 16,
   "id": "727be014",
   "metadata": {},
   "outputs": [
    {
     "data": {
      "text/plain": [
       "26"
      ]
     },
     "execution_count": 16,
     "metadata": {},
     "output_type": "execute_result"
    }
   ],
   "source": [
    "entrada.id"
   ]
  },
  {
   "cell_type": "code",
   "execution_count": 17,
   "id": "994cbbfa",
   "metadata": {},
   "outputs": [
    {
     "data": {
      "text/plain": [
       "'eBay Rickstock Assamita Secreto'"
      ]
     },
     "execution_count": 17,
     "metadata": {},
     "output_type": "execute_result"
    }
   ],
   "source": [
    "entrada.origem"
   ]
  },
  {
   "cell_type": "code",
   "execution_count": 18,
   "id": "c13cdf6d",
   "metadata": {},
   "outputs": [],
   "source": [
    "texto = '\\n'.join(\n",
    "    [\n",
    "        '**Entrada ID:** {id}',\n",
    "        '**Origem:** {origem}',\n",
    "        '**Data:** {data}',\n",
    "        '**Preço:** {preco}'\n",
    "    ]\n",
    ")"
   ]
  },
  {
   "cell_type": "code",
   "execution_count": 19,
   "id": "297b9e7d",
   "metadata": {},
   "outputs": [
    {
     "data": {
      "text/plain": [
       "'**Entrada ID:** 26\\n**Origem:** eBay Rickstock Assamita Secreto\\n**Data:** 2011-07-27\\n**Preço:** 49.75'"
      ]
     },
     "execution_count": 19,
     "metadata": {},
     "output_type": "execute_result"
    }
   ],
   "source": [
    "texto.format(id=entrada.id,origem=entrada.origem, data=entrada.data, preco=entrada.preco)"
   ]
  },
  {
   "cell_type": "code",
   "execution_count": 21,
   "id": "1c1c3256",
   "metadata": {},
   "outputs": [],
   "source": [
    "itens_entrada = ItemEntrada.where('entrada','=', 26).get()"
   ]
  },
  {
   "cell_type": "code",
   "execution_count": 22,
   "id": "16cd59fa",
   "metadata": {},
   "outputs": [
    {
     "name": "stdout",
     "output_type": "stream",
     "text": [
      "4 2852\n",
      "1 432\n",
      "5 2576\n",
      "10 2393\n",
      "10 2619\n",
      "1 1247\n",
      "10 3271\n",
      "8 1434\n",
      "7 1536\n",
      "2 1183\n",
      "1 128\n",
      "10 3199\n",
      "1 1602\n",
      "5 1721\n",
      "5 3345\n",
      "1 941\n",
      "4 1473\n",
      "6 3247\n",
      "1 1899\n"
     ]
    }
   ],
   "source": [
    "for item in itens_entrada:\n",
    "    print(item.quantidade, item.carta)"
   ]
  },
  {
   "cell_type": "code",
   "execution_count": null,
   "id": "e21896d9",
   "metadata": {},
   "outputs": [],
   "source": []
  }
 ],
 "metadata": {
  "kernelspec": {
   "display_name": "Python 3 (ipykernel)",
   "language": "python",
   "name": "python3"
  },
  "language_info": {
   "codemirror_mode": {
    "name": "ipython",
    "version": 3
   },
   "file_extension": ".py",
   "mimetype": "text/x-python",
   "name": "python",
   "nbconvert_exporter": "python",
   "pygments_lexer": "ipython3",
   "version": "3.10.10"
  }
 },
 "nbformat": 4,
 "nbformat_minor": 5
}
