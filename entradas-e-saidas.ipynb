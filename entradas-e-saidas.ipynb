{
 "cells": [
  {
   "cell_type": "code",
   "execution_count": 1,
   "id": "14a9dbbe",
   "metadata": {},
   "outputs": [],
   "source": [
    "from model import Usuario, Carta, Estoque, Deck, Composicao, db\n",
    "from model import Entrada, Saida, ItemEntrada, ItemSaida"
   ]
  },
  {
   "cell_type": "code",
   "execution_count": 2,
   "id": "c75527b7",
   "metadata": {},
   "outputs": [],
   "source": [
    "import service"
   ]
  },
  {
   "cell_type": "code",
   "execution_count": 3,
   "id": "d7b6d040",
   "metadata": {},
   "outputs": [],
   "source": [
    "entradas = Entrada.where('dono','=', 1).get()"
   ]
  },
  {
   "cell_type": "code",
   "execution_count": 5,
   "id": "b5031d25",
   "metadata": {},
   "outputs": [
    {
     "name": "stdout",
     "output_type": "stream",
     "text": [
      "1 Starter Deck Assamitas LotN\n",
      "2 Compra no eBay\n",
      "3 Starter Deck Malkavian KoT\n",
      "4 Starter Deck Lasombra/Kiasyd HttB\n",
      "5 Starter Deck Giovanni LotN\n",
      "6 Starter Deck Ravnos LotN\n",
      "7 Starter Deck Brujah Antitribu TE\n",
      "8 Starter Deck Tzimisce TE\n",
      "9 Daughters G 2/3 DominioSP\n",
      "10 Osebo Intercept Combat DominioSP\n",
      "11 Baali Dominio SP\n",
      "12 Starter Deck Nosferatu CE\n",
      "13 Box de Heirs to the Blood\n",
      "14 Nosferatu Old School votes\n",
      "15 eBay Rickstock\n",
      "16 VtesCards.com.br\n",
      "17 Starter Deck Osebo LoB 1\n",
      "19 Starter Deck Akunanse LoB 1\n",
      "20 Starter Deck Akunanse LoB 2\n",
      "21 Starter Deck Akunanse LoB 3\n",
      "22 eBay prunesquallor\n",
      "23 eBay tlt1\n",
      "24 Baali G5/6 DominioSP\n",
      "25 True Brujah G5/6 DominioSP\n",
      "26 eBay Rickstock Assamita Secreto\n",
      "29 Starter Deck Guruhi LoB\n",
      "30 eBay rickstock Voter\n",
      "31 eBay prunesquallor Reckless\n",
      "45 eBay rickstock para Tzimisce\n",
      "46 eBay idasoft via Igor\n",
      "60 Compra Online em Floreios e Borrões\n",
      "61 RickStock para o Kiasyd e Akunanse\n",
      "65 Troca de cartas de Magic por VTES com Dimmy\n",
      "72 Compra online em Floreios e Borrões\n",
      "74 Ravnos LoTN do Jean\n",
      "77 eBay idasoft\n",
      "78 eBay rickstock\n",
      "80 VTES Cards via Jean\n",
      "82 Extras via eBay\n",
      "83 Liga 2013 Partida 8\n",
      "85 Homo Ludicus\n"
     ]
    }
   ],
   "source": [
    "for entrada in entradas:\n",
    "    print(entrada.id, entrada.origem)"
   ]
  },
  {
   "cell_type": "code",
   "execution_count": 7,
   "id": "f647cabc",
   "metadata": {},
   "outputs": [],
   "source": [
    "saidas = Saida.where('dono','=', 1).get()"
   ]
  },
  {
   "cell_type": "code",
   "execution_count": 10,
   "id": "41738912",
   "metadata": {},
   "outputs": [
    {
     "name": "stdout",
     "output_type": "stream",
     "text": [
      "8 Venda Online para dourado\n",
      "11 Venda Online para igorak\n",
      "13 Venda Online para igorak\n",
      "14 Venda Online para igorak\n",
      "15 Venda Online para igorak\n",
      "17 Venda online para igorak\n",
      "19 Venda online to grandemau\n",
      "23 Venda online to grandemau\n",
      "26 Venda online to dourado\n"
     ]
    }
   ],
   "source": [
    "for saida in saidas:\n",
    "    print(saida.id, saida.descricao)"
   ]
  },
  {
   "cell_type": "code",
   "execution_count": null,
   "id": "d5b6f012",
   "metadata": {},
   "outputs": [],
   "source": []
  }
 ],
 "metadata": {
  "kernelspec": {
   "display_name": "Python 3 (ipykernel)",
   "language": "python",
   "name": "python3"
  },
  "language_info": {
   "codemirror_mode": {
    "name": "ipython",
    "version": 3
   },
   "file_extension": ".py",
   "mimetype": "text/x-python",
   "name": "python",
   "nbconvert_exporter": "python",
   "pygments_lexer": "ipython3",
   "version": "3.10.10"
  }
 },
 "nbformat": 4,
 "nbformat_minor": 5
}
